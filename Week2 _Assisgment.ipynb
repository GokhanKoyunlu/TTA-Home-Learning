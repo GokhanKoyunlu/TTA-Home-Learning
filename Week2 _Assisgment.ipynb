{
 "cells": [
  {
   "cell_type": "markdown",
   "metadata": {},
   "source": [
    "# Week 3"
   ]
  },
  {
   "cell_type": "code",
   "execution_count": 2,
   "metadata": {},
   "outputs": [
    {
     "name": "stdout",
     "output_type": "stream",
     "text": [
      "90000 2022\n",
      "81000 2023\n",
      "72900 2024\n",
      "65610 2025\n",
      "59049 2026\n",
      "53144 2027\n",
      "47829 2028\n",
      "43046 2029\n",
      "38741 2030\n",
      "34866 2031\n",
      "31379 2032\n",
      "28241 2033\n",
      "25416 2034\n",
      "22874 2035\n"
     ]
    }
   ],
   "source": [
    "# Week 3 / Task 2 \n",
    "def bike(bike_price,year):\n",
    "      \n",
    "    \n",
    "    \n",
    "    while bike_price > 25000 :\n",
    "        year=year+1\n",
    "        \n",
    "        bike_price = int( bike_price*0.9)\n",
    "        \n",
    "        print(bike_price, year)\n",
    "        \n",
    "    \n",
    "    \n",
    "bike(100000,2021)"
   ]
  },
  {
   "cell_type": "code",
   "execution_count": 10,
   "metadata": {},
   "outputs": [
    {
     "name": "stdout",
     "output_type": "stream",
     "text": [
      "Enter which operation would you like to perform?\n",
      "16384\n"
     ]
    }
   ],
   "source": [
    "#Week3/Task 3 Basic Calculator \n",
    "num1 = int(input(\"Enter First Number: \"))\n",
    "num2 = int(input(\"Enter Second Number: \"))\n",
    "\n",
    "print(\"Enter which operation would you like to perform?\")\n",
    "sign = input(\"Enter any of these char for specific operation +,-,*,/: ,** \")\n",
    "\n",
    "def procedure_operation(num1,num2):\n",
    "    if sign == (\"+\") :\n",
    "        print( num1+num2)\n",
    "    elif sign == (\"-\"): \n",
    "        print(num1-num2) \n",
    "    elif sign == (\"*\"):\n",
    "        print(num1*num2)\n",
    "    elif sign == (\"/\"):\n",
    "        print(num1/num2)\n",
    "    elif sign == (\"**\"):\n",
    "        print(num1 ** num2)\n",
    "    elif sign == (\"%\"):\n",
    "        print(num1 % num2)\n",
    "    elif sign == (\"//\"):\n",
    "        print(num1 // num2)\n",
    "    else:\n",
    "        print(\"An appropriate operator was not selected!\")\n",
    "\n",
    "procedure_operation(num1,num2)"
   ]
  },
  {
   "cell_type": "code",
   "execution_count": 9,
   "metadata": {},
   "outputs": [
    {
     "ename": "IndentationError",
     "evalue": "expected an indented block after 'if' statement on line 11 (Temp/ipykernel_16136/2309343731.py, line 12)",
     "output_type": "error",
     "traceback": [
      "\u001b[1;36m  File \u001b[1;32m\"C:\\Users\\pc\\AppData\\Local\\Temp/ipykernel_16136/2309343731.py\"\u001b[1;36m, line \u001b[1;32m12\u001b[0m\n\u001b[1;33m    exit()\u001b[0m\n\u001b[1;37m    ^\u001b[0m\n\u001b[1;31mIndentationError\u001b[0m\u001b[1;31m:\u001b[0m expected an indented block after 'if' statement on line 11\n"
     ]
    }
   ],
   "source": [
    "menu =  [\"burger\", \" fries\", \"drink\", \"cookies\"]\n",
    "prices= [6,3,2,2]\n",
    "\n",
    "myOrdermenu=[]\n",
    "myOrderprice=[]\n",
    "\n",
    "\n",
    "print (\"Welcome McKoyunlu \")\n",
    "\n",
    "order=input(\"Can I get your order please (Yes/No) \")\n",
    "\n",
    "if order==\"No\":  \n",
    "Exit()\n",
    "\n",
    "       \n",
    "Else:  Print (\"Thanks \")\n",
    "\n",
    "\n",
    "\n",
    "nextorder=True\n",
    "\n",
    "while nextorder==True:\n",
    "    foodorder = input(\"please type menu item \")\n",
    "    if foodorder==\"burger\": \n",
    "        myOrdermenu.append(menu[0])\n",
    "        myOrderprice.append(prices[0])\n",
    "        \n",
    "    elif foodorder==\"fries\": \n",
    "        myOrdermenu.append(menu[1])\n",
    "        myOrderprice.append(prices[1])\n",
    "        \n",
    "    elif foodorder==\"drink\": \n",
    "        \n",
    "        myOrdermenu.append(menu[2])\n",
    "        myOrderprice.append(prices[2])\n",
    "        \n",
    "    elif foodorder==\"cookies\": \n",
    "        myOrdermenu.append(menu[3])\n",
    "        myOrderprice.append(prices[3])\n",
    "    else:\n",
    "      print (\"Invalid food\" )  \n",
    "    \n",
    "    finished=input(\"Did you finished your order?\")\n",
    "    \n",
    "    if finished ==\"No\":\n",
    "        \n",
    "        nextorder=True\n",
    "    else: \n",
    "        nextorder=False\n",
    "\n",
    "        print(myOrdermenu)\n",
    "\n",
    "        print(myOrderprice)\n",
    "    "
   ]
  }
 ],
 "metadata": {
  "interpreter": {
   "hash": "0dda09140a1fd88ea879080486bbeb4c81cc74626dc51b563162033e734c6912"
  },
  "kernelspec": {
   "display_name": "Python 3.10.0 64-bit",
   "language": "python",
   "name": "python3"
  },
  "language_info": {
   "codemirror_mode": {
    "name": "ipython",
    "version": 3
   },
   "file_extension": ".py",
   "mimetype": "text/x-python",
   "name": "python",
   "nbconvert_exporter": "python",
   "pygments_lexer": "ipython3",
   "version": "3.10.0"
  },
  "orig_nbformat": 4
 },
 "nbformat": 4,
 "nbformat_minor": 2
}
