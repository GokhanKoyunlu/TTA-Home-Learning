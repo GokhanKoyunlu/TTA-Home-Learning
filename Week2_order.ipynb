{
 "cells": [
  {
   "cell_type": "code",
   "execution_count": 1,
   "metadata": {},
   "outputs": [
    {
     "name": "stdout",
     "output_type": "stream",
     "text": [
      "Today's menu\n",
      "burger 6\n",
      "fries 3\n",
      "drink 2\n",
      "cookies 2\n",
      "Welcome McKoyunlu \n",
      "Thanks \n",
      "['burger']\n",
      "[6]\n"
     ]
    }
   ],
   "source": [
    "menu =  [\"burger\", \"fries\", \"drink\", \"cookies\"]\n",
    "prices = [6,3,2,2]\n",
    "\n",
    "print(\"Today's menu\")\n",
    "for i in range(4):\n",
    "    print(menu[i], prices[i])\n",
    "\n",
    "myOrdermenu=[]\n",
    "myOrderprice=[]\n",
    "\n",
    "\n",
    "print (\"Welcome McKoyunlu \")\n",
    "\n",
    "order=input(\"Can I get your order please (Yes/No) \")\n",
    "\n",
    "if order==\"No\":  \n",
    "    exit()\n",
    "else:  \n",
    "    print (\"Thanks \")\n",
    "\n",
    "\n",
    "nextorder=True\n",
    "\n",
    "while nextorder==True:\n",
    "    foodorder = input(\"please type menu item \")\n",
    "    if foodorder==\"burger\": \n",
    "        myOrdermenu.append(menu[0])\n",
    "        myOrderprice.append(prices[0])\n",
    "        \n",
    "    elif foodorder==\"fries\": \n",
    "        myOrdermenu.append(menu[1])\n",
    "        myOrderprice.append(prices[1])\n",
    "        \n",
    "    elif foodorder==\"drink\": \n",
    "        \n",
    "        myOrdermenu.append(menu[2])\n",
    "        myOrderprice.append(prices[2])\n",
    "        \n",
    "    elif foodorder==\"cookies\": \n",
    "        myOrdermenu.append(menu[3])\n",
    "        myOrderprice.append(prices[3])\n",
    "    else:\n",
    "      print (\"Invalid food\" )  \n",
    "    \n",
    "    finished=input(\"Did you finished your order?\")\n",
    "    \n",
    "    if finished ==\"No\":\n",
    "        \n",
    "        nextorder=True\n",
    "    else: \n",
    "        nextorder=False\n",
    "\n",
    "print(myOrdermenu)\n",
    "\n",
    "print(myOrderprice)\n",
    "    "
   ]
  }
 ],
 "metadata": {
  "interpreter": {
   "hash": "513dc2e41d739bb2c947903f3c0bbf636d03aa53ab50e61c694a27481c81805e"
  },
  "kernelspec": {
   "display_name": "Python 3.7.4 64-bit ('base': conda)",
   "language": "python",
   "name": "python3"
  },
  "language_info": {
   "codemirror_mode": {
    "name": "ipython",
    "version": 3
   },
   "file_extension": ".py",
   "mimetype": "text/x-python",
   "name": "python",
   "nbconvert_exporter": "python",
   "pygments_lexer": "ipython3",
   "version": "3.7.4"
  },
  "orig_nbformat": 4
 },
 "nbformat": 4,
 "nbformat_minor": 2
}
