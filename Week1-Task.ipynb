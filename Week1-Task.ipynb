{
 "cells": [
  {
   "cell_type": "code",
   "execution_count": 1,
   "metadata": {},
   "outputs": [
    {
     "name": "stdout",
     "output_type": "stream",
     "text": [
      "Hi gokhan  Would you guess an integer number between 1 and 10 inclusively?\n",
      "Wrong , you can try again later\n"
     ]
    }
   ],
   "source": [
    "#Task 1 Guessing Number \n",
    "import random\n",
    "Yourname =input(\"Hi , What is your name ?\")\n",
    "number=random.randint(1,10)\n",
    "print(\"Hi \"+Yourname+\"  Would you guess an integer number between 1 and 10 ?\")\n",
    "guess=int(input (\"enter your number\"))\n",
    "if guess == number:\n",
    "    print(\"Well Done \"+ Yourname+\"You have successfully guessed number \")\n",
    "else:\n",
    "    print(\"Wrong , you can try again later\")\n",
    "    \n"
   ]
  },
  {
   "cell_type": "code",
   "execution_count": 19,
   "metadata": {},
   "outputs": [
    {
     "name": "stdout",
     "output_type": "stream",
     "text": [
      "This program is joke program based on your favourite number beween 1 and 100. There are three jokes depend on your favourite number \n",
      "Don’t you hate it when someone answers their own questions? I do.\n"
     ]
    }
   ],
   "source": [
    "# Task 2 Joke  \n",
    "# Joking according to your number \n",
    "# I have used remainder function to choose joke between 1 and 100 . Remainder will be 0 ,1 or 2 \n",
    "\n",
    "print(\"This program is joke program based on your favourite number beween 1 and 100. There are three jokes depend on your favourite number \")\n",
    "number=int(input(\"would you type your favourite number between 1 and 100 \"))\n",
    "number= number % 3\n",
    "\n",
    "if number == 0 : \n",
    "    print (\"My wife told me to stop impersonating a flamingo. I had to put my foot down.\")\n",
    "elif number ==1 : \n",
    "    print(\"I was wondering why the frisbee kept getting bigger and bigger, but then it hit me.\")\n",
    "else:  \n",
    "    print(\"Don’t you hate it when someone answers their own questions? I do.\")\n",
    "    \n",
    "    \n",
    "    \n",
    "    \n",
    "\n",
    "\n",
    "\n",
    "\n",
    "\n",
    "\n",
    "\n"
   ]
  },
  {
   "cell_type": "code",
   "execution_count": 9,
   "metadata": {},
   "outputs": [
    {
     "name": "stdout",
     "output_type": "stream",
     "text": [
      "Your favourite meal is Soup as a starter, a meat as a main and baklava as your dessert. With a drink of water.\n"
     ]
    }
   ],
   "source": [
    "# Task 3 \n",
    "# This program is about your favourite starter ,main course, dessert and drink \n",
    "Starter= input(\"What  is your favourite starter? \")\n",
    "Course =input(\"What is your main course \")\n",
    "Desert= input (\"What do you  get as dessert ? \")\n",
    "Drink = input(\"What is your favourite drink ?\")\n",
    "print(\"Your favourite meal is \" + Starter +  \" as a starter, a \" + Course + \" as a main and \" + Desert+ \" as your dessert. With a drink of \" +Drink+ \".\")\n",
    "\n"
   ]
  },
  {
   "cell_type": "code",
   "execution_count": 12,
   "metadata": {},
   "outputs": [
    {
     "name": "stdout",
     "output_type": "stream",
     "text": [
      "2000\n",
      "1800.0\n",
      "1620.0\n",
      "1458.0\n",
      "1312.2\n",
      "1180.98\n",
      "1062.882\n"
     ]
    }
   ],
   "source": [
    "#Task 4 ( Motorbike value decreasing year by year)\n",
    "Motorbike_value=2000\n",
    "while  Motorbike_value>1000: \n",
    "    print(Motorbike_value)\n",
    "    Motorbike_value=Motorbike_value*0.9\n",
    "    \n"
   ]
  },
  {
   "cell_type": "code",
   "execution_count": 24,
   "metadata": {},
   "outputs": [
    {
     "name": "stdout",
     "output_type": "stream",
     "text": [
      "Enter which operation would you like to perform?\n",
      "Input character is not recognized!\n",
      "5 < 3 = 0\n"
     ]
    }
   ],
   "source": [
    "#Task5 ( Basic Calculator)\n",
    "num1 = int(input(\"Enter First Number: \"))\n",
    "num2 = int(input(\"Enter Second Number: \"))\n",
    "\n",
    "print(\"Enter which operation would you like to perform?\")\n",
    "ch = input(\"Enter any of these char for specific operation +,-,*,/: ,** \")\n",
    "\n",
    "result = 0\n",
    "if ch == '+':\n",
    "    result = num1 + num2\n",
    "elif ch == '-':\n",
    "    result = num1 - num2\n",
    "elif ch == '*':\n",
    "    result = num1 * num2\n",
    "elif ch == '/' : \n",
    "    result = num1 / num2\n",
    "elif ch == ':' :\n",
    "    result = num1 / num2\n",
    "elif ch == '**' : \n",
    "    result=num1**num2  \n",
    "    \n",
    "\n",
    "else:\n",
    "    print(\"Input character is not recognized!\")\n",
    "\n",
    "print(num1, ch , num2, \"=\", result)\n"
   ]
  }
 ],
 "metadata": {
  "interpreter": {
   "hash": "0dda09140a1fd88ea879080486bbeb4c81cc74626dc51b563162033e734c6912"
  },
  "kernelspec": {
   "display_name": "Python 3.10.0 64-bit",
   "language": "python",
   "name": "python3"
  },
  "language_info": {
   "codemirror_mode": {
    "name": "ipython",
    "version": 3
   },
   "file_extension": ".py",
   "mimetype": "text/x-python",
   "name": "python",
   "nbconvert_exporter": "python",
   "pygments_lexer": "ipython3",
   "version": "3.10.0"
  },
  "orig_nbformat": 4
 },
 "nbformat": 4,
 "nbformat_minor": 2
}
