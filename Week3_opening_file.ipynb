{
 "cells": [
  {
   "cell_type": "code",
   "execution_count": 15,
   "metadata": {},
   "outputs": [],
   "source": [
    "#  Opening a file and allowing to enter 4 Numbers. \n",
    "\n",
    "with open('My_file.txt', mode='w') as numbers:\n",
    "    for i in range(4):\n",
    "        s = input(\"Enter your number: \")+'\\n'\n",
    "        numbers.write(s)\n",
    "    \n",
    "numbers.close()\n"
   ]
  },
  {
   "cell_type": "code",
   "execution_count": 7,
   "metadata": {},
   "outputs": [],
   "source": [
    "\n",
    "#  Adding a new  number (a)\n",
    "\n",
    "numbers = open(\"My_file.txt\", mode='a')\n",
    "\n",
    "s=input(\"please add your number\")\n",
    "\n",
    "numbers.write(s)\n",
    "\n",
    "numbers.close()\n",
    "\n"
   ]
  },
  {
   "cell_type": "code",
   "execution_count": 8,
   "metadata": {},
   "outputs": [
    {
     "name": "stdout",
     "output_type": "stream",
     "text": [
      "4\n",
      "5\n",
      "6\n",
      "7\n",
      "566666\n"
     ]
    }
   ],
   "source": [
    "# Reading a file. (R)\n",
    "\n",
    "with open('My_file.txt', mode='r') as numbers:\n",
    "    print(numbers.read())\n",
    "numbers.close()"
   ]
  },
  {
   "cell_type": "markdown",
   "metadata": {},
   "source": []
  },
  {
   "cell_type": "code",
   "execution_count": 3,
   "metadata": {},
   "outputs": [
    {
     "name": "stdout",
     "output_type": "stream",
     "text": [
      "Your scored is between 60 and 70, so your grade is B\n"
     ]
    }
   ],
   "source": [
    "# Task2 Writing a program to  a student for their percentage mark and convert this to a \n",
    "# (grademark_grade) shows the percent and grade. \n",
    "\n",
    "def mark_grade(percent):\n",
    "    \n",
    "# Using if condition to return 'grade' based on their 'percent'.\n",
    "    if  percent >= 70:\n",
    "        print(\"Your scored 70 and above, so your grade is A\")\n",
    "        return \"A\"\n",
    "    elif percent >= 60 and percent <70:\n",
    "        print(\"Your scored is between 60 and 70, so your grade is B\")\n",
    "        return \"B\"\n",
    "    elif percent >= 50 and percent <60:\n",
    "        print(\"You scored is between  50  and 60, so your grade is C\")\n",
    "        return \"C\"\n",
    "    elif percent >= 45 and percent <=50:\n",
    "        print(\"You scored is between 45 and 50, so your grade is D\")\n",
    "        return \"D\"\n",
    "    elif percent >= 40 and percent <45:\n",
    "        print(\"You scored is between  40 and 45 , so your grade is E\")\n",
    "        return \"E\"\n",
    "    else:\n",
    "        print(\"You scored less than 40 so you are Failed\")\n",
    "        return \"F\"\n",
    "    \n",
    "score = int(input(\"What is your  exam score?: \"))\n",
    "grade= mark_grade(score)"
   ]
  },
  {
   "cell_type": "code",
   "execution_count": 6,
   "metadata": {},
   "outputs": [
    {
     "name": "stdout",
     "output_type": "stream",
     "text": [
      "Congragulations !\n"
     ]
    }
   ],
   "source": [
    "target = input(\"What grade is your expactation? : \")\n",
    "\n",
    "# Using if condition to display a suitable message based on 'grades'.\n",
    "\n",
    "if target == grade:\n",
    "    print(\"Well done! you got your expected grade!\")\n",
    "    \n",
    "elif target == \"A\" and grade == \"B\":\n",
    "    print(\"Bravoo, Great work! \")\n",
    "    \n",
    "elif target == \"B\" and grade == \"C\":\n",
    "    print(\"Good, Can do better! \")\n",
    "    \n",
    "elif target == \"D\" and grade == \"E\":\n",
    "    print(\",You have to do hard work! \")\n",
    "    \n",
    "else:\n",
    "    print(\" congratulations !\")\n",
    "    "
   ]
  }
 ],
 "metadata": {
  "interpreter": {
   "hash": "0dda09140a1fd88ea879080486bbeb4c81cc74626dc51b563162033e734c6912"
  },
  "kernelspec": {
   "display_name": "Python 3.10.0 64-bit",
   "language": "python",
   "name": "python3"
  },
  "language_info": {
   "codemirror_mode": {
    "name": "ipython",
    "version": 3
   },
   "file_extension": ".py",
   "mimetype": "text/x-python",
   "name": "python",
   "nbconvert_exporter": "python",
   "pygments_lexer": "ipython3",
   "version": "3.10.0"
  },
  "orig_nbformat": 4
 },
 "nbformat": 4,
 "nbformat_minor": 2
}
